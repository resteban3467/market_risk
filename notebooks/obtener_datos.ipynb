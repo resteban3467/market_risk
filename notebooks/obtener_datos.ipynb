{
 "cells": [
  {
   "cell_type": "code",
   "execution_count": 1,
   "id": "4e24b6fb-6853-44e5-b832-b361a8a769bd",
   "metadata": {},
   "outputs": [],
   "source": [
    "# =============================================================================\n",
    "# FASE 1: IMPORTACIÓN DE LIBRERÍAS Y CONFIGURACIÓN\n",
    "# =============================================================================\n",
    "import yfinance as yf\n",
    "import pandas as pd\n",
    "import numpy as np\n",
    "import datetime as dt\n",
    "from fredapi import Fred\n",
    "from sqlalchemy import create_engine\n",
    "import os\n",
    "from dotenv import load_dotenv"
   ]
  },
  {
   "cell_type": "code",
   "execution_count": 2,
   "id": "b9f0602c-d33d-4ca0-b6e5-16446ff16524",
   "metadata": {},
   "outputs": [],
   "source": [
    "# --- Configuración del Proyecto ---\n",
    "# Activos a analizar\n",
    "tickers_activos = [\"SPY\", \"AAPL\", \"MSFT\", \"GOOGL\", \"NVDA\", \"AMZN\", \"COST\", \"WMT\", \"MCD\", \"JPM\", \"BAC\", \"V\", \"JNJ\", \"PFE\", \"UNH\", \"CAT\", \"BA\", \"XOM\", \"CVX\", \"SQM\", \"BHP\"]\n",
    "ticker_bono_fred = 'DGS10' # Tasa del Tesoro de EEUU a 10 años\n",
    "\n",
    "# Fechas para el análisis histórico\n",
    "end_date = dt.date.today()\n",
    "start_date = end_date - dt.timedelta(days=5*365) # 5 años de datos\n",
    "\n",
    "# Parámetros de la simulación\n",
    "num_portfolios = 25000\n",
    "\n",
    "# Configuración para la base de datos (simulada con CSV en este ejemplo)\n",
    "load_dotenv()\n",
    "\n",
    "db_user = os.getenv(\"DB_USER\")\n",
    "db_password = os.getenv(\"DB_PASSWORD\")\n",
    "db_host = os.getenv(\"DB_HOST\")\n",
    "db_port = os.getenv(\"DB_PORT\")\n",
    "db_name = os.getenv(\"DB_NAME\")\n",
    "key = os.getenv(\"fred\")\n",
    "fred = Fred(api_key = key)\n",
    "\n",
    "db_engine = create_engine(f'postgresql://{db_user}:{db_password}@{db_host}:{db_port}/{db_name}')\n"
   ]
  },
  {
   "cell_type": "markdown",
   "id": "c2626979-fa05-4753-b2eb-fc3b7f04e1e4",
   "metadata": {},
   "source": [
    "Acciones\n",
    "\n",
    "```sql\n",
    "CREATE TABLE datos_activos (\n",
    "    fecha DATE NOT NULL,\n",
    "    ticker VARCHAR(10) NOT NULL,\n",
    "    precio_cierre NUMERIC,\n",
    "    volumen BIGINT,\n",
    "    PRIMARY KEY (fecha, ticker) -- Clave primaria compuesta\n",
    ");\n",
    "Bonos\n",
    "\n",
    "CREATE TABLE datos_bono (\n",
    "    fecha DATE PRIMARY KEY,\n",
    "    tasa DECIMAL\n",
    ");"
   ]
  },
  {
   "cell_type": "code",
   "execution_count": null,
   "id": "4b54a248-9234-497c-bfb1-910440205812",
   "metadata": {},
   "outputs": [
    {
     "name": "stderr",
     "output_type": "stream",
     "text": [
      "[********************* 43%                       ]  9 of 21 completed"
     ]
    }
   ],
   "source": [
    "datos_activos_raw = yf.download(tickers_activos, start=start_date, end=end_date, auto_adjust = True)\n",
    "datos_activos_raw"
   ]
  },
  {
   "cell_type": "code",
   "execution_count": null,
   "id": "94f45079-ece2-4e7d-91ad-4fa2c73cdf44",
   "metadata": {},
   "outputs": [],
   "source": [
    "datos_activos_raw = datos_activos_raw.drop(columns = [\"High\", \"Low\", \"Open\"], axis = 1)\n",
    "datos_activos_raw"
   ]
  },
  {
   "cell_type": "code",
   "execution_count": null,
   "id": "8f2caa64-139f-445e-8d67-531ffdd2caa1",
   "metadata": {},
   "outputs": [],
   "source": [
    "# Reestructuramos el DataFrame para que sea \"largo\"\n",
    "df_activos = datos_activos_raw.stack(future_stack = True, level = 1).reset_index()\n",
    "df_activos"
   ]
  },
  {
   "cell_type": "code",
   "execution_count": null,
   "id": "543b4169-1e24-4b09-8226-d2121fb19f42",
   "metadata": {},
   "outputs": [],
   "source": [
    "df_activos.rename(columns={\n",
    "    \"Date\": \"fecha\",\n",
    "    \"Ticker\": \"ticker\",\n",
    "    \"Volume\": \"volumen\",\n",
    "    \"Close\": \"precio_cierre\"\n",
    "}, inplace=True)"
   ]
  },
  {
   "cell_type": "code",
   "execution_count": null,
   "id": "98f9016c-65c5-4eca-9a23-8e17f07a7eca",
   "metadata": {},
   "outputs": [],
   "source": [
    "df_bonos = fred.get_series(ticker_bono_fred, observation_start = start_date, observation_end = end_date).ffill()\n",
    "df_bonos = {\"fecha\": df_bonos.index, \"tasa\": df_bonos}"
   ]
  },
  {
   "cell_type": "code",
   "execution_count": null,
   "id": "3c79389c-a28d-4d58-bb78-0b9cf43965ad",
   "metadata": {},
   "outputs": [],
   "source": [
    "df_bonos = pd.DataFrame(data = df_bonos)\n",
    "df_bonos"
   ]
  },
  {
   "cell_type": "code",
   "execution_count": null,
   "id": "f59f2f50-2f8f-4eb6-bb7b-3f6025c1f269",
   "metadata": {},
   "outputs": [],
   "source": [
    "try:\n",
    "    with db_engine.connect() as connection:\n",
    "        # Cargar acciones\n",
    "        df_activos.to_sql('datos_activos', con=connection, if_exists='replace', index=False)\n",
    "        print(\"✅ Datos de acciones cargados exitosamente.\")\n",
    "        \n",
    "        # Cargar bonos\n",
    "        df_bonos.to_sql('datos_bonos', con=connection, if_exists='replace', index=False)\n",
    "        print(\"✅ Datos de bonos cargados exitosamente.\")\n",
    "except Exception as e:\n",
    "    print(f\"🚨 Error al cargar datos a la base de datos: {e}\")\n"
   ]
  },
  {
   "cell_type": "markdown",
   "id": "94a19da6-f1fd-4209-9c14-f9d3b7b67961",
   "metadata": {},
   "source": [
    "```sql\n",
    "SELECT\n",
    "    act.fecha,\n",
    "    act.ticker,\n",
    "    act.precio_cierre,\n",
    "\tCOALESCE(\n",
    "    \t(precio_cierre / LAG(precio_cierre, 1) OVER (PARTITION BY ticker ORDER BY act.fecha)) - 1,\n",
    "    \t0\n",
    "\t) AS retorno_diario,   \t\n",
    "\tROUND (CAST ((bon.tasa / 100) AS DECIMAL), 4) as tasa_bono,\n",
    "\tact.volumen\n",
    "FROM\n",
    "    datos_activos act\n",
    "LEFT JOIN\n",
    "    datos_bonos bon ON act.fecha = bon.fecha\n",
    "ORDER BY\n",
    "    act.fecha, act.ticker;\n",
    "```"
   ]
  }
 ],
 "metadata": {
  "kernelspec": {
   "display_name": "Python 3 (ipykernel)",
   "language": "python",
   "name": "python3"
  },
  "language_info": {
   "codemirror_mode": {
    "name": "ipython",
    "version": 3
   },
   "file_extension": ".py",
   "mimetype": "text/x-python",
   "name": "python",
   "nbconvert_exporter": "python",
   "pygments_lexer": "ipython3",
   "version": "3.13.7"
  }
 },
 "nbformat": 4,
 "nbformat_minor": 5
}
